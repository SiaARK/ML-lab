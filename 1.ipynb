{
 "cells": [
  {
   "cell_type": "code",
   "execution_count": 24,
   "metadata": {},
   "outputs": [],
   "source": [
    "def listop(arr):\n",
    "    print(\"List: \",arr)\n",
    "    num = int(input(\"Enter a number to insert: \"))\n",
    "    arr.append(num)\n",
    "    print(arr)\n",
    "    ind,val = map(int,input(\"Ener a index and value to update: \").strip().split(\" \"))\n",
    "    if ind >= 0 and ind < len(arr):\n",
    "        arr[ind] = val\n",
    "    else:\n",
    "        print(\"invalid index\")\n",
    "    print(arr)\n",
    "    val = int(input(\"enter value to delete: \"))\n",
    "    if val in arr:\n",
    "        arr.remove(val)\n",
    "    else:\n",
    "        print(\"not found\")\n",
    "    print(arr)\n",
    "    arr.sort()\n",
    "    print(\"sorted list: \",arr)\n",
    "    key = int(input(\"enter key to search: \"))\n",
    "    if key in arr:\n",
    "        print(\"key found\")\n",
    "    else:\n",
    "        print(\"not found\")    "
   ]
  },
  {
   "cell_type": "code",
   "execution_count": 25,
   "metadata": {},
   "outputs": [],
   "source": [
    "def tupleop(tup):\n",
    "    print(\"Tuple: \",tup)\n",
    "    key = int(input(\"enter key to search: \"))\n",
    "    if key in tup:\n",
    "        print(\"key found\")\n",
    "    else:\n",
    "        print(\"not found\")    \n",
    "    print(\"Tuple does not support update, insert, delete and sorting operations\")\n",
    "    "
   ]
  },
  {
   "cell_type": "code",
   "execution_count": 26,
   "metadata": {},
   "outputs": [],
   "source": [
    "def setop(setarr):\n",
    "    print(\"Set: \",setarr)\n",
    "    num = int(input(\"Enter a number to insert: \"))\n",
    "    setarr.add(num)\n",
    "    print(setarr)\n",
    "    num = int(input(\"Enter a number to delete: \"))\n",
    "    setarr.remove(num)\n",
    "    print(setarr)\n",
    "    key = int(input(\"enter key to search: \"))\n",
    "    if key in setarr:\n",
    "        print(\"key found\")\n",
    "    else:\n",
    "        print(\"not found\") \n",
    "    print(\"In set elemnts are ordered by default\")"
   ]
  },
  {
   "cell_type": "code",
   "execution_count": 27,
   "metadata": {},
   "outputs": [],
   "source": [
    "def dictionaryop(dictn):\n",
    "    print(\"Dictionary: \",dictn)\n",
    "    key,val = input(\"Ener a key and value to update/insert: \").strip().split(\" \")\n",
    "    dictn[key] = int(val)\n",
    "    print(dictn)\n",
    "    key = input(\"enter key to delete from dictionary: \")\n",
    "    if key in dictn:\n",
    "        del dictn[key]\n",
    "    else:\n",
    "        print(\"not found\")\n",
    "    print(dictn)\n",
    "    val = input(\"enter key to search: \")\n",
    "    if val in dictn:\n",
    "        print(\"found\")\n",
    "    else:\n",
    "        print(\"not found\")\n",
    "    print(\"dictionary does not support sorting as keys may have mixed datatype\")"
   ]
  },
  {
   "cell_type": "code",
   "execution_count": 28,
   "metadata": {},
   "outputs": [],
   "source": [
    "def main():\n",
    "    arr = [1,2,3,4]\n",
    "    tup = (3,2,4,1)\n",
    "    setarr = set([6,5,1])\n",
    "    dictn = {\"one\":1,\"two\":2}\n",
    "    print(\"list operations\")\n",
    "    listop(arr)\n",
    "    print(\"tuple operations\")\n",
    "    tupleop(tup)\n",
    "    print(\"set operations\")\n",
    "    setop(setarr)\n",
    "    print(\"dictionary operations\")\n",
    "    dictionaryop(dictn)\n",
    "    "
   ]
  },
  {
   "cell_type": "code",
   "execution_count": 29,
   "metadata": {},
   "outputs": [
    {
     "name": "stdout",
     "output_type": "stream",
     "text": [
      "list operations\n",
      "List:  [1, 2, 3, 4]\n",
      "Enter a number to insert: 5\n",
      "[1, 2, 3, 4, 5]\n",
      "Ener a index and value to update: 2 7\n",
      "[1, 2, 7, 4, 5]\n",
      "enter value to delete: 7\n",
      "[1, 2, 4, 5]\n",
      "sorted list:  [1, 2, 4, 5]\n",
      "enter key to search: 4\n",
      "key found\n",
      "tuple operations\n",
      "Tuple:  (3, 2, 4, 1)\n",
      "enter key to search: 4\n",
      "key found\n",
      "Tuple does not support update, insert, delete and sorting operations\n",
      "set operations\n",
      "Set:  {1, 5, 6}\n",
      "Enter a number to insert: 3\n",
      "{1, 3, 5, 6}\n",
      "Enter a number to delete: 6\n",
      "{1, 3, 5}\n",
      "enter key to search: 5\n",
      "key found\n",
      "In set elemnts are ordered by default\n",
      "dictionary operations\n",
      "Dictionary:  {'one': 1, 'two': 2}\n",
      "Ener a key and value to update/insert: four 4\n",
      "{'one': 1, 'two': 2, 'four': 4}\n",
      "enter key to delete from dictionary: one\n",
      "{'two': 2, 'four': 4}\n",
      "enter key to search: two\n",
      "found\n",
      "dictionary does not support sorting as keys may have mixed datatype\n"
     ]
    }
   ],
   "source": [
    "if __name__ == \"__main__\":\n",
    "    main()"
   ]
  },
  {
   "cell_type": "code",
   "execution_count": null,
   "metadata": {},
   "outputs": [],
   "source": []
  }
 ],
 "metadata": {
  "kernelspec": {
   "display_name": "Python 3",
   "language": "python",
   "name": "python3"
  },
  "language_info": {
   "codemirror_mode": {
    "name": "ipython",
    "version": 3
   },
   "file_extension": ".py",
   "mimetype": "text/x-python",
   "name": "python",
   "nbconvert_exporter": "python",
   "pygments_lexer": "ipython3",
   "version": "3.7.4"
  }
 },
 "nbformat": 4,
 "nbformat_minor": 2
}
